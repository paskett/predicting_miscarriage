{
 "cells": [
  {
   "cell_type": "code",
   "execution_count": 10,
   "metadata": {},
   "outputs": [],
   "source": [
    "import shutil\n",
    "import urllib.request as request\n",
    "from contextlib import closing\n",
    "import os"
   ]
  },
  {
   "cell_type": "markdown",
   "metadata": {},
   "source": [
    "# Get National Survey of Family Growth Data"
   ]
  },
  {
   "cell_type": "code",
   "execution_count": 11,
   "metadata": {},
   "outputs": [],
   "source": [
    "nsfg_files = [\n",
    "    '2015_2017_FemPregData.dat', \n",
    "    '2015_2017_FemRespData.dat', \n",
    "    '2015_2017_MaleData.dat',\n",
    "    'stata/2015_2017_FemPregSetup.dct', # Stata dictionaries\n",
    "    'stata/2015_2017_FemRespSetup.dct',\n",
    "    'stata/2015_2017_MaleSetup.dct',\n",
    "]\n",
    "try:\n",
    "    os.mkdir('./stata')\n",
    "except FileExistsError:\n",
    "    pass\n",
    "\n",
    "def get_nsfg_data(files):\n",
    "    \"\"\"The NSFG data is provided on an FTP server.\"\"\"\n",
    "    server_url = 'ftp://ftp.cdc.gov/pub/Health_Statistics/NCHS/Datasets/NSFG/'\n",
    "    \n",
    "    for file in files:\n",
    "        with closing(request.urlopen(server_url+file)) as r:\n",
    "            with open(file, 'wb') as f:\n",
    "                shutil.copyfileobj(r, f)\n",
    "    "
   ]
  },
  {
   "cell_type": "code",
   "execution_count": 12,
   "metadata": {},
   "outputs": [],
   "source": [
    "# Note: this sometimes takes a few minutes.\n",
    "get_nsfg_data(nsfg_files)"
   ]
  },
  {
   "cell_type": "markdown",
   "metadata": {},
   "source": [
    "# Save all data file names to a file for use by our data cleaner"
   ]
  },
  {
   "cell_type": "code",
   "execution_count": 13,
   "metadata": {},
   "outputs": [],
   "source": [
    "# Delete and rewrite the file if it exists\n",
    "if os.path.isfile('all_data_files.txt'):\n",
    "    os.remove('all_data_files.txt')\n",
    "\n",
    "for files in [nsfg_files,]: # Can add more lists of data files here if desired\n",
    "    for file in files:\n",
    "        with open('all_data_files.txt','a') as f:\n",
    "            f.write(file+'\\n')"
   ]
  },
  {
   "cell_type": "code",
   "execution_count": null,
   "metadata": {},
   "outputs": [],
   "source": []
  }
 ],
 "metadata": {
  "kernelspec": {
   "display_name": "Python 3",
   "language": "python",
   "name": "python3"
  },
  "language_info": {
   "codemirror_mode": {
    "name": "ipython",
    "version": 3
   },
   "file_extension": ".py",
   "mimetype": "text/x-python",
   "name": "python",
   "nbconvert_exporter": "python",
   "pygments_lexer": "ipython3",
   "version": "3.7.4"
  }
 },
 "nbformat": 4,
 "nbformat_minor": 2
}
